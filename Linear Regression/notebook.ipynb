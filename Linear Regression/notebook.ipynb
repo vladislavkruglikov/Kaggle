{
 "cells": [
  {
   "cell_type": "markdown",
   "id": "fd1a302b",
   "metadata": {
    "papermill": {
     "duration": 0.015724,
     "end_time": "2021-12-21T19:07:30.165320",
     "exception": false,
     "start_time": "2021-12-21T19:07:30.149596",
     "status": "completed"
    },
    "tags": []
   },
   "source": [
    "<h1 style='text-align: center'>Linear Regression From Scratch</h1>\n",
    "\n",
    "<p  style='text-align: center'>\n",
    "This notebook is in <span style='color: green; font-weight: 700'>Active</span> state of development!\n",
    "<a style='font-weight:700' href='https://github.com/LilDataScientist'> Code on GitHub! </a></p>"
   ]
  },
  {
   "cell_type": "markdown",
   "id": "47b6e435",
   "metadata": {
    "papermill": {
     "duration": 0.013218,
     "end_time": "2021-12-21T19:07:30.192130",
     "exception": false,
     "start_time": "2021-12-21T19:07:30.178912",
     "status": "completed"
    },
    "tags": []
   },
   "source": [
    "<div style='text-align: center'>\n",
    "    <img src='https://i.postimg.cc/9fSGwckm/islr-linear-regression-1.png' width='700' />\n",
    "</div>"
   ]
  },
  {
   "cell_type": "markdown",
   "id": "46e5e10d",
   "metadata": {
    "papermill": {
     "duration": 0.013029,
     "end_time": "2021-12-21T19:07:30.219126",
     "exception": false,
     "start_time": "2021-12-21T19:07:30.206097",
     "status": "completed"
    },
    "tags": []
   },
   "source": [
    "#### How do we present data\n",
    "\n",
    "$i$ rows (samples), $j$ columns (features)"
   ]
  },
  {
   "cell_type": "markdown",
   "id": "b44abb18",
   "metadata": {
    "papermill": {
     "duration": 0.013273,
     "end_time": "2021-12-21T19:07:30.245636",
     "exception": false,
     "start_time": "2021-12-21T19:07:30.232363",
     "status": "completed"
    },
    "tags": []
   },
   "source": [
    "$$\\large\n",
    "X = \\begin{pmatrix}\n",
    "        x_{11} & \\ldots & x_{1j} \\\\\n",
    "        x_{21} & \\ldots & x_{2j} \\\\\n",
    "        \\vdots &        & \\vdots \\\\\n",
    "        x_{i1} & \\ldots & x_{ij} \\\\\n",
    "        \\end{pmatrix}\n",
    "    \\quad\n",
    "    Y = \\begin{pmatrix}\n",
    "        y_{1} \\\\\n",
    "        y_{2}  \\\\\n",
    "        \\vdots \\\\\n",
    "        y_{i} \\\\\n",
    "        \\end{pmatrix}\n",
    "    \\quad\n",
    "    W = \\begin{pmatrix}\n",
    "        w_{1} \\\\\n",
    "        w_{2}  \\\\\n",
    "        \\vdots \\\\\n",
    "        w_{j} \\\\\n",
    "        \\end{pmatrix} \n",
    "$$"
   ]
  },
  {
   "cell_type": "markdown",
   "id": "1024d3e5",
   "metadata": {
    "papermill": {
     "duration": 0.013045,
     "end_time": "2021-12-21T19:07:30.271979",
     "exception": false,
     "start_time": "2021-12-21T19:07:30.258934",
     "status": "completed"
    },
    "tags": []
   },
   "source": [
    "#### How we compute a output"
   ]
  },
  {
   "cell_type": "markdown",
   "id": "5fd4a6ef",
   "metadata": {
    "papermill": {
     "duration": 0.012997,
     "end_time": "2021-12-21T19:07:30.298243",
     "exception": false,
     "start_time": "2021-12-21T19:07:30.285246",
     "status": "completed"
    },
    "tags": []
   },
   "source": [
    "$$\\large\n",
    "\\hat{y_i} = x_{i1}w_1 + x_{i2}w_2 + \\ldots + x_{ij}w_j + b\n",
    "$$"
   ]
  },
  {
   "cell_type": "markdown",
   "id": "d65ce930",
   "metadata": {
    "papermill": {
     "duration": 0.012876,
     "end_time": "2021-12-21T19:07:30.324378",
     "exception": false,
     "start_time": "2021-12-21T19:07:30.311502",
     "status": "completed"
    },
    "tags": []
   },
   "source": [
    "#### Loss function"
   ]
  },
  {
   "cell_type": "markdown",
   "id": "96d022b9",
   "metadata": {
    "papermill": {
     "duration": 0.013077,
     "end_time": "2021-12-21T19:07:30.350681",
     "exception": false,
     "start_time": "2021-12-21T19:07:30.337604",
     "status": "completed"
    },
    "tags": []
   },
   "source": [
    "$$\\large\n",
    "MSE = (\\hat{y} - y)^{2}\n",
    "\\\\[2ex]\n",
    "\\large\n",
    "MSE' = 2 \\cdot (\\hat{y} - y)\\cdot \\hat{y}' = (\\hat{y} - y)\\cdot \\hat{y}'\n",
    "$$"
   ]
  },
  {
   "cell_type": "markdown",
   "id": "1780a9f9",
   "metadata": {
    "papermill": {
     "duration": 0.013296,
     "end_time": "2021-12-21T19:07:30.377218",
     "exception": false,
     "start_time": "2021-12-21T19:07:30.363922",
     "status": "completed"
    },
    "tags": []
   },
   "source": [
    "#### Let's define column vector of outputs"
   ]
  },
  {
   "cell_type": "markdown",
   "id": "6b08bb4e",
   "metadata": {
    "papermill": {
     "duration": 0.012951,
     "end_time": "2021-12-21T19:07:30.403405",
     "exception": false,
     "start_time": "2021-12-21T19:07:30.390454",
     "status": "completed"
    },
    "tags": []
   },
   "source": [
    "\n",
    "$$\\large\n",
    "\\begin{align*} \n",
    "f_{1} &= (\\hat{y_1} - y_1)^{2} \\\\\n",
    "f_{2} &= (\\hat{y_2} - y_2)^{2} \\\\\n",
    "\\ldots &= \\ldots \\\\\n",
    "f_{i} &= (\\hat{y_i} - y_i)^{2}\n",
    "\\end{align*} \n",
    "\\quad\n",
    "F = \\begin{pmatrix}\n",
    "        f_{1} \\\\\n",
    "        f_{2}  \\\\\n",
    "        \\vdots \\\\\n",
    "        f_{j} \\\\\n",
    "        \\end{pmatrix}\n",
    "$$"
   ]
  },
  {
   "cell_type": "markdown",
   "id": "9cd46f53",
   "metadata": {
    "papermill": {
     "duration": 0.012935,
     "end_time": "2021-12-21T19:07:30.429524",
     "exception": false,
     "start_time": "2021-12-21T19:07:30.416589",
     "status": "completed"
    },
    "tags": []
   },
   "source": [
    "#### Compute $\\large \\frac{\\partial MSE}{\\partial W}$"
   ]
  },
  {
   "cell_type": "markdown",
   "id": "5c9693cd",
   "metadata": {
    "papermill": {
     "duration": 0.012892,
     "end_time": "2021-12-21T19:07:30.455607",
     "exception": false,
     "start_time": "2021-12-21T19:07:30.442715",
     "status": "completed"
    },
    "tags": []
   },
   "source": [
    "$$\\large\n",
    "        \\frac{\\partial F}{\\partial W} = \\begin{pmatrix}\n",
    "        \\frac{\\partial f_1}{\\partial w_1} & \\ldots & \\frac{\\partial f_1}{\\partial w_j}\\\\\n",
    "        \\frac{\\partial f_2}{\\partial w_1} & \\ldots & \\frac{\\partial f_2}{\\partial w_j}\\\\\n",
    "        \\vdots                     &        & \\vdots \\\\\n",
    "        \\frac{\\partial f_i}{\\partial w_1} & \\ldots & \\frac{\\partial f_i}{\\partial w_j}\\\\\n",
    "        \\end{pmatrix}    \n",
    "        \\quad\n",
    "        \\frac{\\partial F}{\\partial W} = \\begin{pmatrix}\n",
    "        \\frac{\\partial (\\hat{y_1} - y_1)^{2} }{\\partial w_1} & \\ldots & \\frac{\\partial (\\hat{y_1} - y_1)^{2}}{\\partial w_j}\\\\\n",
    "        \\frac{\\partial (\\hat{y_2} - y_2)^{2}}{\\partial w_1} & \\ldots & \\frac{\\partial (\\hat{y_2} - y_2)^{2}}{\\partial w_j}\\\\\n",
    "        \\vdots  &        & \\vdots \\\\\n",
    "        \\frac{\\partial (\\hat{y_i} - y_i)^{2}}{\\partial w_1} &  \\ldots & \\frac{\\partial (\\hat{y_i} - y_i)^{2}}{\\partial w_j}\\\\\n",
    "        \\end{pmatrix}\\\\\n",
    "$$"
   ]
  },
  {
   "cell_type": "markdown",
   "id": "8d287930",
   "metadata": {
    "papermill": {
     "duration": 0.012877,
     "end_time": "2021-12-21T19:07:30.481792",
     "exception": false,
     "start_time": "2021-12-21T19:07:30.468915",
     "status": "completed"
    },
    "tags": []
   },
   "source": [
    "$$\n",
    "\\large\n",
    "    \\frac{\\partial F}{\\partial W} = \\begin{pmatrix}\n",
    "        \\frac{\\partial (\\hat{y_1} - y_1)^{2} }{\\partial (\\hat{y_1} - y_1)} \\cdot \\frac{\\partial (\\hat{y_1} - y_1) }{\\partial (\\hat{y_1})} \\cdot  \\frac{\\partial (\\hat{y_1}) }{\\partial w_1} & \n",
    "        \\cdots &\n",
    "        \\frac{\\partial (\\hat{y_1} - y_1)^{2} }{\\partial (\\hat{y_1} - y_1)} \\cdot \\frac{\\partial (\\hat{y_1} - y_1) }{\\partial (\\hat{y_1})} \\cdot  \\frac{\\partial (\\hat{y_1}) }{\\partial w_j} \\\\\n",
    "        \\frac{\\partial (\\hat{y_2} - y_2)^{2} }{\\partial (\\hat{y_2} - y_2)} \\cdot \\frac{\\partial (\\hat{y_2} - y_2) }{\\partial (\\hat{y_2})} \\cdot  \\frac{\\partial (\\hat{y_2}) }{\\partial w_1} & \n",
    "        \\cdots &\n",
    "        \\frac{\\partial (\\hat{y_2} - y_2)^{2} }{\\partial (\\hat{y_2} - y_2)} \\cdot \\frac{\\partial (\\hat{y_2} - y_2) }{\\partial (\\hat{y_2})} \\cdot  \\frac{\\partial (\\hat{y_2}) }{\\partial w_j} \\\\\n",
    "        \\vdots & & \\vdots \\\\\n",
    "        \\frac{\\partial (\\hat{y_i} - y_i)^{2} }{\\partial (\\hat{y_i} - y_i)} \\cdot \\frac{\\partial (\\hat{y_i} - y_i) }{\\partial (\\hat{y_i})} \\cdot  \\frac{\\partial (\\hat{y_i}) }{\\partial w_1} & \n",
    "        \\cdots &\n",
    "        \\frac{\\partial (\\hat{y_i} - y_i)^{2} }{\\partial (\\hat{y_i} - y_i)} \\cdot \\frac{\\partial (\\hat{y_i} - y_i) }{\\partial (\\hat{y_i})} \\cdot  \\frac{\\partial (\\hat{y_i}) }{\\partial {w_j}}\n",
    "        \\end{pmatrix}\n",
    "$$"
   ]
  },
  {
   "cell_type": "markdown",
   "id": "277d6345",
   "metadata": {
    "papermill": {
     "duration": 0.012915,
     "end_time": "2021-12-21T19:07:30.507843",
     "exception": false,
     "start_time": "2021-12-21T19:07:30.494928",
     "status": "completed"
    },
    "tags": []
   },
   "source": [
    "$$\\large\n",
    "    \\frac{\\partial F}{\\partial W} = \\begin{pmatrix}\n",
    "        2 \\cdot (\\hat{y_1} - y_1) \\cdot 1 \\cdot  \\frac{\\partial (\\hat{y_1}) }{\\partial w_1} & \n",
    "        \\ldots & \n",
    "        2 \\cdot (\\hat{y_1} - y_1) \\cdot 1 \\cdot  \\frac{\\partial (\\hat{y_1}) }{\\partial w_j} \\\\\n",
    "        2 \\cdot (\\hat{y_2} - y_2) \\cdot 1 \\cdot  \\frac{\\partial (\\hat{y_2}) }{\\partial w_1} & \n",
    "        \\ldots & \n",
    "        2 \\cdot (\\hat{y_2} - y_2) \\cdot 1 \\cdot  \\frac{\\partial (\\hat{y_2}) }{\\partial w_j} \\\\\n",
    "        \\vdots & & \\vdots \\\\\n",
    "        2 \\cdot (\\hat{y_i} - y_i) \\cdot 1 \\cdot  \\frac{\\partial (\\hat{y_i}) }{\\partial w_1} & \n",
    "        \\ldots & \n",
    "        2 \\cdot (\\hat{y_i} - y_i) \\cdot 1 \\cdot  \\frac{\\partial (\\hat{y_i}) }{\\partial w_j} \\\\\n",
    "        \\end{pmatrix}\\\\\n",
    "$$"
   ]
  },
  {
   "cell_type": "markdown",
   "id": "76199d5a",
   "metadata": {
    "papermill": {
     "duration": 0.012862,
     "end_time": "2021-12-21T19:07:30.534229",
     "exception": false,
     "start_time": "2021-12-21T19:07:30.521367",
     "status": "completed"
    },
    "tags": []
   },
   "source": [
    "$$\\large\n",
    "    \\frac{\\partial F}{\\partial W} = \\begin{pmatrix}\n",
    "        2 (\\hat{y_1} - y_1) \\frac{\\partial (\\hat{y_1}) }{\\partial w_1} & \n",
    "        \\ldots & \n",
    "        2 (\\hat{y_1} - y_1) \\frac{\\partial (\\hat{y_1}) }{\\partial w_j} &  \\\\\n",
    "        2 (\\hat{y_2} - y_2) \\frac{\\partial (\\hat{y_2}) }{\\partial w_1} & \n",
    "        \\ldots & \n",
    "        2 (\\hat{y_2} - y_2) \\frac{\\partial (\\hat{y_2}) }{\\partial w_j} &  \\\\\n",
    "        \\vdots & & \\vdots \\\\\n",
    "        2 (\\hat{y_i} - y_i) \\frac{\\partial (\\hat{y_i}) }{\\partial w_1} & \n",
    "        \\ldots & \n",
    "        2 (\\hat{y_i} - y_i) \\frac{\\partial (\\hat{y_i}) }{\\partial w_j} &  \\\\\n",
    "        \\end{pmatrix}\\\\\n",
    "$$"
   ]
  },
  {
   "cell_type": "markdown",
   "id": "179487dc",
   "metadata": {
    "papermill": {
     "duration": 0.012854,
     "end_time": "2021-12-21T19:07:30.560198",
     "exception": false,
     "start_time": "2021-12-21T19:07:30.547344",
     "status": "completed"
    },
    "tags": []
   },
   "source": [
    "$$\\large\n",
    "    \\frac{\\partial F}{\\partial W} = \\begin{pmatrix}\n",
    "        2 (\\hat{y_1} - y_1) \\frac{\\partial (x_{11}w_1 + x_{12}w_2 + \\ldots + x_{1j}w_j + b) }{\\partial w_1} & \n",
    "        \\ldots & \n",
    "        2 (\\hat{y_1} - y_1) \\frac{\\partial (x_{11}w_1 + x_{12}w_2 + \\ldots + x_{1j}w_j + b) }{\\partial w_j} \\\\\n",
    "        2 (\\hat{y_2} - y_2) \\frac{\\partial (x_{21}w_1 + x_{22}w_2 + \\ldots + x_{2j}w_j + b) }{\\partial w_1} & \n",
    "        \\ldots & \n",
    "        2 (\\hat{y_2} - y_2) \\frac{\\partial (x_{11}w_1 + x_{12}w_2 + \\ldots + x_{1j}w_j + b) }{\\partial w_j} \\\\\n",
    "        \\vdots & & \\vdots \\\\\n",
    "        2 (\\hat{y_i} - y_i) \\frac{\\partial (x_{i1}w_1 + x_{i2}w_2 + \\ldots + x_{ij}w_j + b) }{\\partial w_1} & \n",
    "        \\ldots & \n",
    "        2 (\\hat{y_i} - y_i) \\frac{\\partial (x_{i1}w_1 + x_{i2}w_2 + \\ldots + x_{ij}w_j + b) }{\\partial w_j} \\\\\n",
    "        \\end{pmatrix}\\\\\n",
    "$$"
   ]
  },
  {
   "cell_type": "markdown",
   "id": "3de79cd0",
   "metadata": {
    "papermill": {
     "duration": 0.012836,
     "end_time": "2021-12-21T19:07:30.586098",
     "exception": false,
     "start_time": "2021-12-21T19:07:30.573262",
     "status": "completed"
    },
    "tags": []
   },
   "source": [
    "$$\\large\n",
    "\\frac{\\partial F}{\\partial W} = \\begin{pmatrix}\n",
    "        2 (\\hat{y_1} - y_1) x_{11} & \n",
    "        \\ldots & \n",
    "        2 (\\hat{y_1} - y_1) x_{1j} & \\\\\n",
    "        2 (\\hat{y_2} - y_2) x_{21} & \n",
    "        \\ldots & \n",
    "        2 (\\hat{y_2} - y_2) x_{2j} & \\\\\n",
    "        \\vdots & & \\vdots \\\\\n",
    "        2 (\\hat{y_i} - y_i) x_{i1} & \n",
    "        \\ldots & \n",
    "        2 (\\hat{y_i} - y_i) x_{ij} & \\\\\n",
    "        \\end{pmatrix}\n",
    "$$"
   ]
  },
  {
   "cell_type": "markdown",
   "id": "4c33e54c",
   "metadata": {
    "papermill": {
     "duration": 0.012761,
     "end_time": "2021-12-21T19:07:30.611922",
     "exception": false,
     "start_time": "2021-12-21T19:07:30.599161",
     "status": "completed"
    },
    "tags": []
   },
   "source": [
    "$$\\large\n",
    "\\frac{\\delta F}{\\delta W} = \n",
    "      \\frac{2}{i} \\begin{pmatrix}\n",
    "        x_{11} & \\ldots & x_{1j} \\\\\n",
    "        x_{21} & \\ldots & x_{2j} \\\\\n",
    "        \\vdots &               & \\vdots \\\\\n",
    "        x_{i1} & \\ldots & x_{ij} \\\\\n",
    "        \\end{pmatrix}^{T}\n",
    "        \\begin{pmatrix}\n",
    "        \\hat{y_1} - y_1 \\\\\n",
    "        \\hat{y_2} - y_2 \\\\\n",
    "        \\vdots \\\\\n",
    "        \\hat{y_i} - y_i \\\\\n",
    "        \\end{pmatrix} =\n",
    "        X^{T} (\\hat{y} - y)\n",
    "$$"
   ]
  },
  {
   "cell_type": "markdown",
   "id": "93d6b2da",
   "metadata": {
    "papermill": {
     "duration": 0.013263,
     "end_time": "2021-12-21T19:07:30.638244",
     "exception": false,
     "start_time": "2021-12-21T19:07:30.624981",
     "status": "completed"
    },
    "tags": []
   },
   "source": [
    "#### Compute $\\large \\frac{\\partial MSE}{\\partial b}$"
   ]
  },
  {
   "cell_type": "markdown",
   "id": "6b108219",
   "metadata": {
    "papermill": {
     "duration": 0.013837,
     "end_time": "2021-12-21T19:07:30.665562",
     "exception": false,
     "start_time": "2021-12-21T19:07:30.651725",
     "status": "completed"
    },
    "tags": []
   },
   "source": [
    "$$\\large\n",
    "        \\frac{\\partial F}{\\partial b} = \\begin{pmatrix}\n",
    "        \\frac{\\partial f_1}{\\partial b} \\\\\n",
    "        \\frac{\\partial f_2}{\\partial b} \\\\\n",
    "        \\vdots \\\\\n",
    "        \\frac{\\partial f_i}{\\partial b} \\\\\n",
    "        \\end{pmatrix}    \n",
    "        \\quad\n",
    "        \\frac{\\partial F}{\\partial b} = \\begin{pmatrix}\n",
    "        \\frac{\\partial (\\hat{y_1} - y_1)^{2} }{\\partial b} \\\\\n",
    "        \\frac{\\partial (\\hat{y_2} - y_2)^{2}}{\\partial b} \\\\\n",
    "        \\vdots \\\\\n",
    "        \\frac{\\partial (\\hat{y_i} - y_i)^{2}}{\\partial b} \\\\\n",
    "        \\end{pmatrix}\n",
    "        \\quad\n",
    "        \\frac{\\partial F}{\\partial b} = \\begin{pmatrix}\n",
    "        \\frac{\\partial (\\hat{y_1} - y_1)^{2} }{\\partial (\\hat{y_1} - y_1)} \\cdot \\frac{\\partial (\\hat{y_1} - y_1) }{\\partial (\\hat{y_1})} \\cdot  \\frac{\\partial (\\hat{y_1}) }{\\partial b} \\\\\n",
    "        \\frac{\\partial (\\hat{y_2} - y_2)^{2} }{\\partial (\\hat{y_2} - y_2)} \\cdot \\frac{\\partial (\\hat{y_2} - y_2) }{\\partial (\\hat{y_2})} \\cdot  \\frac{\\partial (\\hat{y_2}) }{\\partial b}  \\\\\n",
    "        \\vdots \\\\\n",
    "        \\frac{\\partial (\\hat{y_i} - y_i)^{2} }{\\partial (\\hat{y_i} - y_i)} \\cdot \\frac{\\partial (\\hat{y_i} - y_i) }{\\partial (\\hat{y_i})} \\cdot  \\frac{\\partial (\\hat{y_i}) }{\\partial b} \\\\\n",
    "        \\end{pmatrix} \n",
    "$$"
   ]
  },
  {
   "cell_type": "markdown",
   "id": "c2aaf642",
   "metadata": {
    "papermill": {
     "duration": 0.012854,
     "end_time": "2021-12-21T19:07:30.691620",
     "exception": false,
     "start_time": "2021-12-21T19:07:30.678766",
     "status": "completed"
    },
    "tags": []
   },
   "source": [
    "$$\\large\n",
    "        \\frac{\\partial F}{\\partial b} = \\begin{pmatrix}\n",
    "        2 \\cdot (\\hat{y_1} - y_1) \\cdot 1 \\cdot  \\frac{\\partial (\\hat{y_1}) }{\\partial b} \\\\\n",
    "        2 \\cdot (\\hat{y_2} - y_2) \\cdot 1 \\cdot  \\frac{\\partial (\\hat{y_2}) }{\\partial b} \\\\\n",
    "        \\vdots \\\\\n",
    "        2 \\cdot (\\hat{y_i} - y_i) \\cdot 1 \\cdot  \\frac{\\partial (\\hat{y_i}) }{\\partial b}\n",
    "        \\end{pmatrix}\n",
    "        \\quad\n",
    "        \\frac{\\partial F}{\\partial b} = \\begin{pmatrix}\n",
    "        2 (\\hat{y_1} - y_1) \\frac{\\partial (\\hat{y_1}) }{\\partial b} \\\\\n",
    "        2 (\\hat{y_2} - y_2) \\frac{\\partial (\\hat{y_2}) }{\\partial b} \\\\\n",
    "        \\vdots \\\\\n",
    "        2  (\\hat{y_i} - y_i)\\frac{\\partial (\\hat{y_i}) }{\\partial b}\n",
    "        \\end{pmatrix}\n",
    "$$"
   ]
  },
  {
   "cell_type": "markdown",
   "id": "cdde0ff6",
   "metadata": {
    "papermill": {
     "duration": 0.012918,
     "end_time": "2021-12-21T19:07:30.717639",
     "exception": false,
     "start_time": "2021-12-21T19:07:30.704721",
     "status": "completed"
    },
    "tags": []
   },
   "source": [
    "$$\\large\n",
    "        \\frac{\\partial F}{\\partial b} = \\begin{pmatrix}\n",
    "        2 (\\hat{y_1} - y_1) \\frac{\\partial (x_{11}w_1 + x_{12}w_2 + \\ldots + x_{1j}w_j + b) }{\\partial b} \\\\\n",
    "        2 (\\hat{y_2} - y_2) \\frac{\\partial (x_{11}w_1 + x_{12}w_2 + \\ldots + x_{1j}w_j + b)}{\\partial b} \\\\\n",
    "        \\vdots \\\\\n",
    "        2 (\\hat{y_i} - y_i) \\frac{\\partial (x_{11}w_1 + x_{12}w_2 + \\ldots + x_{1j}w_j + b)}{\\partial b} \n",
    "        \\end{pmatrix}\n",
    "        \\quad\n",
    "        \\frac{\\partial F}{\\partial b} = \\begin{pmatrix}\n",
    "        2 (\\hat{y_1} - y_1)\\\\\n",
    "        2 (\\hat{y_2} - y_2)\\\\\n",
    "        \\vdots \\\\\n",
    "        2 (\\hat{y_i} - y_i)\\\\\n",
    "        \\end{pmatrix}\n",
    "$$"
   ]
  },
  {
   "cell_type": "markdown",
   "id": "8240a22b",
   "metadata": {
    "papermill": {
     "duration": 0.012843,
     "end_time": "2021-12-21T19:07:30.743635",
     "exception": false,
     "start_time": "2021-12-21T19:07:30.730792",
     "status": "completed"
    },
    "tags": []
   },
   "source": [
    "$$\\large\n",
    "\\frac{\\partial F}{\\partial b} = \\frac{2}{i}(\\hat{y} - y)\n",
    "$$"
   ]
  },
  {
   "cell_type": "markdown",
   "id": "876f1a2f",
   "metadata": {
    "papermill": {
     "duration": 0.012914,
     "end_time": "2021-12-21T19:07:30.769752",
     "exception": false,
     "start_time": "2021-12-21T19:07:30.756838",
     "status": "completed"
    },
    "tags": []
   },
   "source": [
    "# Implementation of Linear Regression with Regularization"
   ]
  },
  {
   "cell_type": "code",
   "execution_count": 1,
   "id": "e21e23e6",
   "metadata": {
    "execution": {
     "iopub.execute_input": "2021-12-21T19:07:30.802234Z",
     "iopub.status.busy": "2021-12-21T19:07:30.800591Z",
     "iopub.status.idle": "2021-12-21T19:07:33.191165Z",
     "shell.execute_reply": "2021-12-21T19:07:33.190447Z",
     "shell.execute_reply.started": "2021-12-21T18:26:06.039699Z"
    },
    "papermill": {
     "duration": 2.407926,
     "end_time": "2021-12-21T19:07:33.191352",
     "exception": false,
     "start_time": "2021-12-21T19:07:30.783426",
     "status": "completed"
    },
    "tags": []
   },
   "outputs": [],
   "source": [
    "import numpy as np \n",
    "import pandas as pd \n",
    "import plotly.express as px\n",
    "import plotly.graph_objects as go\n",
    "import matplotlib.pyplot as plt\n",
    "import seaborn as sns\n",
    "\n",
    "from sklearn import datasets\n",
    "from sklearn.model_selection import train_test_split\n",
    "from sklearn.metrics import mean_squared_error\n",
    "from sklearn.linear_model import LinearRegression\n",
    "\n",
    "sns.set_theme()"
   ]
  },
  {
   "cell_type": "code",
   "execution_count": 2,
   "id": "4895641d",
   "metadata": {
    "execution": {
     "iopub.execute_input": "2021-12-21T19:07:33.228556Z",
     "iopub.status.busy": "2021-12-21T19:07:33.227568Z",
     "iopub.status.idle": "2021-12-21T19:07:33.230304Z",
     "shell.execute_reply": "2021-12-21T19:07:33.229847Z",
     "shell.execute_reply.started": "2021-12-21T18:36:13.088124Z"
    },
    "papermill": {
     "duration": 0.024924,
     "end_time": "2021-12-21T19:07:33.230452",
     "exception": false,
     "start_time": "2021-12-21T19:07:33.205528",
     "status": "completed"
    },
    "tags": []
   },
   "outputs": [],
   "source": [
    "class LinearRegression:\n",
    "    def __init__(self, learning_rate=0.1, n_iters=100):\n",
    "        self.lr = learning_rate\n",
    "        self.n_iters = n_iters\n",
    "        self.weights = None\n",
    "        self.bias = None\n",
    "    \n",
    "    def fit(self, X, y):\n",
    "        n_samples, n_features = X.shape\n",
    "        \n",
    "        self.weights = np.zeros(n_features)\n",
    "        self.bias = 0\n",
    "        \n",
    "        for _ in range(self.n_iters):\n",
    "            pred = self.predict(X)\n",
    "            loss = pred - y\n",
    "            \n",
    "            dw = X.T @ loss\n",
    "            db = loss.mean(axis=0)\n",
    "            \n",
    "            self.weights -= self.lr * dw\n",
    "            self.bias -= self.lr * db\n",
    "    \n",
    "    def predict(self, X):\n",
    "        return X @ self.weights + self.bias"
   ]
  },
  {
   "cell_type": "markdown",
   "id": "f4c234cb",
   "metadata": {
    "papermill": {
     "duration": 0.013789,
     "end_time": "2021-12-21T19:07:33.258634",
     "exception": false,
     "start_time": "2021-12-21T19:07:33.244845",
     "status": "completed"
    },
    "tags": []
   },
   "source": [
    "# Generate data\n",
    "\n",
    "We will be using only one feature with index 2"
   ]
  },
  {
   "cell_type": "code",
   "execution_count": 3,
   "id": "f33e85a4",
   "metadata": {
    "execution": {
     "iopub.execute_input": "2021-12-21T19:07:33.292481Z",
     "iopub.status.busy": "2021-12-21T19:07:33.291882Z",
     "iopub.status.idle": "2021-12-21T19:07:33.316934Z",
     "shell.execute_reply": "2021-12-21T19:07:33.317438Z",
     "shell.execute_reply.started": "2021-12-21T18:36:14.528221Z"
    },
    "papermill": {
     "duration": 0.044857,
     "end_time": "2021-12-21T19:07:33.317699",
     "exception": false,
     "start_time": "2021-12-21T19:07:33.272842",
     "status": "completed"
    },
    "tags": []
   },
   "outputs": [],
   "source": [
    "X, y = datasets.load_diabetes(return_X_y=True)\n",
    "\n",
    "X = X[:, [2]]\n",
    "\n",
    "X_train, X_test, y_train, y_test = train_test_split(X, y, test_size=0.2, random_state=0)"
   ]
  },
  {
   "cell_type": "code",
   "execution_count": 4,
   "id": "e071340d",
   "metadata": {
    "_kg_hide-input": true,
    "execution": {
     "iopub.execute_input": "2021-12-21T19:07:33.363891Z",
     "iopub.status.busy": "2021-12-21T19:07:33.358361Z",
     "iopub.status.idle": "2021-12-21T19:07:33.683900Z",
     "shell.execute_reply": "2021-12-21T19:07:33.683302Z",
     "shell.execute_reply.started": "2021-12-21T18:36:14.877209Z"
    },
    "papermill": {
     "duration": 0.350802,
     "end_time": "2021-12-21T19:07:33.684067",
     "exception": false,
     "start_time": "2021-12-21T19:07:33.333265",
     "status": "completed"
    },
    "tags": []
   },
   "outputs": [
    {
     "data": {
      "image/png": "[encoded data removed]",
      "text/plain": [
       "<Figure size 1008x504 with 1 Axes>"
      ]
     },
     "metadata": {},
     "output_type": "display_data"
    }
   ],
   "source": [
    "fig, ax = plt.subplots(figsize=(14, 7))\n",
    "\n",
    "sns.scatterplot(x=X_train[:, 0], y=y_train, ax=ax);"
   ]
  },
  {
   "cell_type": "markdown",
   "id": "d1c33ffc",
   "metadata": {
    "papermill": {
     "duration": 0.01477,
     "end_time": "2021-12-21T19:07:33.714332",
     "exception": false,
     "start_time": "2021-12-21T19:07:33.699562",
     "status": "completed"
    },
    "tags": []
   },
   "source": [
    "# Run model"
   ]
  },
  {
   "cell_type": "code",
   "execution_count": 5,
   "id": "25dcc458",
   "metadata": {
    "execution": {
     "iopub.execute_input": "2021-12-21T19:07:33.749612Z",
     "iopub.status.busy": "2021-12-21T19:07:33.748571Z",
     "iopub.status.idle": "2021-12-21T19:07:33.964469Z",
     "shell.execute_reply": "2021-12-21T19:07:33.964995Z",
     "shell.execute_reply.started": "2021-12-21T18:36:16.91367Z"
    },
    "papermill": {
     "duration": 0.23497,
     "end_time": "2021-12-21T19:07:33.965199",
     "exception": false,
     "start_time": "2021-12-21T19:07:33.730229",
     "status": "completed"
    },
    "tags": []
   },
   "outputs": [
    {
     "name": "stdout",
     "output_type": "stream",
     "text": [
      "MSE: 4150.680189329983\n"
     ]
    }
   ],
   "source": [
    "model = LinearRegression(n_iters=10000)\n",
    "model.fit(X_train, y_train)\n",
    "MSE = mean_squared_error(y_test, model.predict(X_test))\n",
    "print('MSE: {}'.format(MSE))"
   ]
  },
  {
   "cell_type": "code",
   "execution_count": 6,
   "id": "d2147269",
   "metadata": {
    "_kg_hide-input": true,
    "execution": {
     "iopub.execute_input": "2021-12-21T19:07:34.003744Z",
     "iopub.status.busy": "2021-12-21T19:07:34.003043Z",
     "iopub.status.idle": "2021-12-21T19:07:34.268447Z",
     "shell.execute_reply": "2021-12-21T19:07:34.267962Z",
     "shell.execute_reply.started": "2021-12-21T18:36:18.20311Z"
    },
    "papermill": {
     "duration": 0.28777,
     "end_time": "2021-12-21T19:07:34.268589",
     "exception": false,
     "start_time": "2021-12-21T19:07:33.980819",
     "status": "completed"
    },
    "tags": []
   },
   "outputs": [
    {
     "data": {
      "image/png": "[encoded data removed]",
      "text/plain": [
       "<Figure size 1008x504 with 1 Axes>"
      ]
     },
     "metadata": {},
     "output_type": "display_data"
    }
   ],
   "source": [
    "x_values = np.linspace(-0.1, 0.2, 100)\n",
    "y_values = [model.bias + model.weights[0] * x for x in x_values]\n",
    "\n",
    "fig, ax = plt.subplots(figsize=(14, 7))\n",
    "\n",
    "sns.scatterplot(x=X_train[:, 0], y=y_train, ax=ax);\n",
    "sns.lineplot(x=x_values, y=y_values);"
   ]
  }
 ],
 "metadata": {
  "kernelspec": {
   "display_name": "Python 3",
   "language": "python",
   "name": "python3"
  },
  "language_info": {
   "codemirror_mode": {
    "name": "ipython",
    "version": 3
   },
   "file_extension": ".py",
   "mimetype": "text/x-python",
   "name": "python",
   "nbconvert_exporter": "python",
   "pygments_lexer": "ipython3",
   "version": "3.7.10"
  },
  "papermill": {
   "default_parameters": {},
   "duration": 12.862159,
   "end_time": "2021-12-21T19:07:35.812244",
   "environment_variables": {},
   "exception": null,
   "input_path": "__notebook__.ipynb",
   "output_path": "__notebook__.ipynb",
   "parameters": {},
   "start_time": "2021-12-21T19:07:22.950085",
   "version": "2.3.3"
  }
 },
 "nbformat": 4,
 "nbformat_minor": 5
}
