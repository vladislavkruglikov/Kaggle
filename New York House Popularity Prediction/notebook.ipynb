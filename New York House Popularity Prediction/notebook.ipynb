{
 "cells": [
  {
   "cell_type": "markdown",
   "id": "7cfe8020",
   "metadata": {
    "papermill": {
     "duration": 0.021829,
     "end_time": "2021-12-19T23:23:31.180832",
     "exception": false,
     "start_time": "2021-12-19T23:23:31.159003",
     "status": "completed"
    },
    "tags": []
   },
   "source": [
    "<h1 style='text-align: center'>Predict House Popularity In New York 🥇</h1>\n",
    "\n",
    "<p  style='text-align: center'>\n",
    "This notebook is in <span style='color: green; font-weight: 700'>Active</span> state of development!\n",
    "<a style='font-weight:700' href='https://github.com/LilDataScientist'> Code on GitHub! </a></p>"
   ]
  },
  {
   "cell_type": "markdown",
   "id": "35fd5eda",
   "metadata": {
    "papermill": {
     "duration": 0.020175,
     "end_time": "2021-12-19T23:23:31.223489",
     "exception": false,
     "start_time": "2021-12-19T23:23:31.203314",
     "status": "completed"
    },
    "tags": []
   },
   "source": [
    "<div style='text-align: center'>\n",
    "    <img src='https://media.istockphoto.com/photos/winter-in-manhattan-picture-id1292824324?b=1&k=20&m=1292824324&s=170667a&w=0&h=GpVutoJrAAYP_h_ddXm_hIR1_22WebYn3ym6jz6hRNQ=' width='1000' />\n",
    "</div>"
   ]
  },
  {
   "cell_type": "markdown",
   "id": "899022e9",
   "metadata": {
    "papermill": {
     "duration": 0.01964,
     "end_time": "2021-12-19T23:23:31.263469",
     "exception": false,
     "start_time": "2021-12-19T23:23:31.243829",
     "status": "completed"
    },
    "tags": []
   },
   "source": [
    "<h1 style='background-color: #dae8fc; border: 1px solid #94add0; padding: 10px; font-weight: 400; text-align:center'>Import Dependencies</h1>"
   ]
  },
  {
   "cell_type": "code",
   "execution_count": 1,
   "id": "700bf89c",
   "metadata": {
    "_cell_guid": "b1076dfc-b9ad-4769-8c92-a6c4dae69d19",
    "_uuid": "8f2839f25d086af736a60e9eeb907d3b93b6e0e5",
    "execution": {
     "iopub.execute_input": "2021-12-19T23:23:31.308514Z",
     "iopub.status.busy": "2021-12-19T23:23:31.307015Z",
     "iopub.status.idle": "2021-12-19T23:23:33.117673Z",
     "shell.execute_reply": "2021-12-19T23:23:33.118156Z",
     "shell.execute_reply.started": "2021-12-19T23:05:28.884914Z"
    },
    "papermill": {
     "duration": 1.835098,
     "end_time": "2021-12-19T23:23:33.118478",
     "exception": false,
     "start_time": "2021-12-19T23:23:31.283380",
     "status": "completed"
    },
    "tags": []
   },
   "outputs": [],
   "source": [
    "import catboost\n",
    "import optuna\n",
    "\n",
    "import pandas as pd\n",
    "import numpy as np\n",
    "\n",
    "import matplotlib.pyplot as plt\n",
    "import seaborn as sns\n",
    "\n",
    "from sklearn.model_selection import train_test_split\n",
    "from sklearn.preprocessing import LabelEncoder, PolynomialFeatures\n",
    "from sklearn.preprocessing import StandardScaler, MultiLabelBinarizer\n",
    "from sklearn.metrics import balanced_accuracy_score, make_scorer\n",
    "from sklearn.utils.class_weight import compute_class_weight\n",
    "\n",
    "from sklearn.impute import SimpleImputer\n",
    "from sklearn.pipeline import Pipeline, make_pipeline\n",
    "from sklearn.compose import ColumnTransformer\n",
    "from sklearn.base import BaseEstimator, TransformerMixin\n",
    "from sklearn.feature_selection import VarianceThreshold\n",
    "from sklearn.decomposition import PCA\n",
    "\n",
    "from catboost import CatBoostClassifier, Pool, EShapCalcType, EFeaturesSelectionAlgorithm"
   ]
  },
  {
   "cell_type": "markdown",
   "id": "88a3a9ef",
   "metadata": {
    "papermill": {
     "duration": 0.022384,
     "end_time": "2021-12-19T23:23:33.163959",
     "exception": false,
     "start_time": "2021-12-19T23:23:33.141575",
     "status": "completed"
    },
    "tags": []
   },
   "source": [
    "<h1 style='background-color: #dae8fc; border: 1px solid #94add0; padding: 10px; font-weight: 400; text-align:center'>Turn Off Warnings</h1>"
   ]
  },
  {
   "cell_type": "markdown",
   "id": "a08c195b",
   "metadata": {
    "papermill": {
     "duration": 0.022852,
     "end_time": "2021-12-19T23:23:33.210506",
     "exception": false,
     "start_time": "2021-12-19T23:23:33.187654",
     "status": "completed"
    },
    "tags": []
   },
   "source": [
    "I came across such common warnings as setting to the copy of pandas dataframe"
   ]
  },
  {
   "cell_type": "code",
   "execution_count": 2,
   "id": "40bd0e3b",
   "metadata": {
    "execution": {
     "iopub.execute_input": "2021-12-19T23:23:33.260877Z",
     "iopub.status.busy": "2021-12-19T23:23:33.259965Z",
     "iopub.status.idle": "2021-12-19T23:23:33.262191Z",
     "shell.execute_reply": "2021-12-19T23:23:33.262724Z",
     "shell.execute_reply.started": "2021-12-19T23:05:29.167008Z"
    },
    "papermill": {
     "duration": 0.030659,
     "end_time": "2021-12-19T23:23:33.262887",
     "exception": false,
     "start_time": "2021-12-19T23:23:33.232228",
     "status": "completed"
    },
    "tags": []
   },
   "outputs": [],
   "source": [
    "import warnings\n",
    "warnings.filterwarnings('ignore', category=UserWarning, module='sklearn')\n",
    "pd.options.mode.chained_assignment = None\n",
    "\n",
    "np.random.seed(0)\n",
    "\n",
    "sns.set_style(\"dark\")"
   ]
  },
  {
   "cell_type": "markdown",
   "id": "787057cf",
   "metadata": {
    "papermill": {
     "duration": 0.02285,
     "end_time": "2021-12-19T23:23:33.307931",
     "exception": false,
     "start_time": "2021-12-19T23:23:33.285081",
     "status": "completed"
    },
    "tags": []
   },
   "source": [
    "<h1 style='background-color: #dae8fc; border: 1px solid #94add0; padding: 10px; font-weight: 400; text-align:center'>Load Dataset</h1>"
   ]
  },
  {
   "cell_type": "code",
   "execution_count": 3,
   "id": "cb57fea0",
   "metadata": {
    "execution": {
     "iopub.execute_input": "2021-12-19T23:23:33.357281Z",
     "iopub.status.busy": "2021-12-19T23:23:33.356728Z",
     "iopub.status.idle": "2021-12-19T23:23:34.634212Z",
     "shell.execute_reply": "2021-12-19T23:23:34.634743Z",
     "shell.execute_reply.started": "2021-12-19T23:05:29.367061Z"
    },
    "papermill": {
     "duration": 1.304922,
     "end_time": "2021-12-19T23:23:34.634928",
     "exception": false,
     "start_time": "2021-12-19T23:23:33.330006",
     "status": "completed"
    },
    "tags": []
   },
   "outputs": [
    {
     "data": {
      "text/html": [
       "<div>\n",
       "<style scoped>\n",
       "    .dataframe tbody tr th:only-of-type {\n",
       "        vertical-align: middle;\n",
       "    }\n",
       "\n",
       "    .dataframe tbody tr th {\n",
       "        vertical-align: top;\n",
       "    }\n",
       "\n",
       "    .dataframe thead th {\n",
       "        text-align: right;\n",
       "    }\n",
       "</style>\n",
       "<table border=\"1\" class=\"dataframe\">\n",
       "  <thead>\n",
       "    <tr style=\"text-align: right;\">\n",
       "      <th></th>\n",
       "      <th>Id</th>\n",
       "      <th>bathrooms</th>\n",
       "      <th>bedrooms</th>\n",
       "      <th>building_id</th>\n",
       "      <th>created</th>\n",
       "      <th>description</th>\n",
       "      <th>display_address</th>\n",
       "      <th>features</th>\n",
       "      <th>latitude</th>\n",
       "      <th>listing_id</th>\n",
       "      <th>longitude</th>\n",
       "      <th>manager_id</th>\n",
       "      <th>photos</th>\n",
       "      <th>price</th>\n",
       "      <th>street_address</th>\n",
       "      <th>TARGET</th>\n",
       "    </tr>\n",
       "  </thead>\n",
       "  <tbody>\n",
       "    <tr>\n",
       "      <th>0</th>\n",
       "      <td>57094</td>\n",
       "      <td>1.0</td>\n",
       "      <td>3</td>\n",
       "      <td>0</td>\n",
       "      <td>2016-05-19 18:06:27</td>\n",
       "      <td>A FABULOUS 3BR IN MIDTOWN WEST!   PERFECT APAR...</td>\n",
       "      <td>HOW AMAZING IS THIS MIDTOWN WEST STEAL!! NO FE...</td>\n",
       "      <td>['Laundry In Unit', 'No Fee', 'Elevator']</td>\n",
       "      <td>40.7647</td>\n",
       "      <td>7039994</td>\n",
       "      <td>-73.9918</td>\n",
       "      <td>4bdc3d8c1aaa90d997ce2cb77680679b</td>\n",
       "      <td>['https://photos.renthop.com/2/7039994_07be01b...</td>\n",
       "      <td>4495</td>\n",
       "      <td>W 50 &amp; AVE 10</td>\n",
       "      <td>medium</td>\n",
       "    </tr>\n",
       "    <tr>\n",
       "      <th>1</th>\n",
       "      <td>33389</td>\n",
       "      <td>1.0</td>\n",
       "      <td>1</td>\n",
       "      <td>9225efdfb57a50bf3ec17ebab082f94a</td>\n",
       "      <td>2016-06-16 02:01:49</td>\n",
       "      <td>Renovated Kitchen and Bathroom!</td>\n",
       "      <td>55 River Drive South</td>\n",
       "      <td>['Dogs Allowed', 'Cats Allowed', 'No Fee']</td>\n",
       "      <td>40.7275</td>\n",
       "      <td>7166774</td>\n",
       "      <td>-74.0322</td>\n",
       "      <td>e5808a5e6cc13988fe596704428d38d5</td>\n",
       "      <td>['https://photos.renthop.com/2/7166774_03cf63a...</td>\n",
       "      <td>2570</td>\n",
       "      <td>55 River Drive South</td>\n",
       "      <td>medium</td>\n",
       "    </tr>\n",
       "    <tr>\n",
       "      <th>2</th>\n",
       "      <td>60458</td>\n",
       "      <td>1.0</td>\n",
       "      <td>0</td>\n",
       "      <td>320de7d3cc88e50a7fbbcfde1e825d21</td>\n",
       "      <td>2016-05-04 02:42:50</td>\n",
       "      <td>RARE AND BEST DEAL ON THE MARKET!!!! PERFECT S...</td>\n",
       "      <td>W 77 Street</td>\n",
       "      <td>['Elevator', 'Hardwood Floors']</td>\n",
       "      <td>40.7798</td>\n",
       "      <td>6962716</td>\n",
       "      <td>-73.9751</td>\n",
       "      <td>d69d4e111612dd12ef864031c1148543</td>\n",
       "      <td>['https://photos.renthop.com/2/6962716_ec7f56f...</td>\n",
       "      <td>1795</td>\n",
       "      <td>22 W 77 Street</td>\n",
       "      <td>low</td>\n",
       "    </tr>\n",
       "    <tr>\n",
       "      <th>3</th>\n",
       "      <td>53048</td>\n",
       "      <td>1.0</td>\n",
       "      <td>2</td>\n",
       "      <td>ce6d18bf3238e668b2bf23f4110b7b67</td>\n",
       "      <td>2016-05-12 05:57:56</td>\n",
       "      <td>Newly renovated flex 2 apartment offers the ne...</td>\n",
       "      <td>John Street</td>\n",
       "      <td>['Swimming Pool', 'Doorman', 'Elevator', 'Fitn...</td>\n",
       "      <td>40.7081</td>\n",
       "      <td>7002458</td>\n",
       "      <td>-74.0065</td>\n",
       "      <td>e6472c7237327dd3903b3d6f6a94515a</td>\n",
       "      <td>['https://photos.renthop.com/2/7002458_93f4010...</td>\n",
       "      <td>3400</td>\n",
       "      <td>100 John Street</td>\n",
       "      <td>low</td>\n",
       "    </tr>\n",
       "    <tr>\n",
       "      <th>4</th>\n",
       "      <td>592</td>\n",
       "      <td>1.0</td>\n",
       "      <td>3</td>\n",
       "      <td>fee4d465932160318364d9d48d272879</td>\n",
       "      <td>2016-06-16 06:06:15</td>\n",
       "      <td>LOW FEE apartments do not come around like thi...</td>\n",
       "      <td>West 16th Street</td>\n",
       "      <td>['Laundry in Building', 'Laundry in Unit', 'Di...</td>\n",
       "      <td>40.7416</td>\n",
       "      <td>7170465</td>\n",
       "      <td>-74.0025</td>\n",
       "      <td>6fba9b3a8327c607b8b043716efee684</td>\n",
       "      <td>['https://photos.renthop.com/2/7170465_9c3f173...</td>\n",
       "      <td>5695</td>\n",
       "      <td>321 West 16th Street</td>\n",
       "      <td>low</td>\n",
       "    </tr>\n",
       "    <tr>\n",
       "      <th>...</th>\n",
       "      <td>...</td>\n",
       "      <td>...</td>\n",
       "      <td>...</td>\n",
       "      <td>...</td>\n",
       "      <td>...</td>\n",
       "      <td>...</td>\n",
       "      <td>...</td>\n",
       "      <td>...</td>\n",
       "      <td>...</td>\n",
       "      <td>...</td>\n",
       "      <td>...</td>\n",
       "      <td>...</td>\n",
       "      <td>...</td>\n",
       "      <td>...</td>\n",
       "      <td>...</td>\n",
       "      <td>...</td>\n",
       "    </tr>\n",
       "    <tr>\n",
       "      <th>34541</th>\n",
       "      <td>25582</td>\n",
       "      <td>1.0</td>\n",
       "      <td>1</td>\n",
       "      <td>14fdc4b01ae44b025f6c4d28c9097e5f</td>\n",
       "      <td>2016-06-16 02:12:57</td>\n",
       "      <td>Newly renovated bedroom apartment located off ...</td>\n",
       "      <td>29th St</td>\n",
       "      <td>['No pets']</td>\n",
       "      <td>40.7653</td>\n",
       "      <td>7166867</td>\n",
       "      <td>-73.9248</td>\n",
       "      <td>e6472c7237327dd3903b3d6f6a94515a</td>\n",
       "      <td>['https://photos.renthop.com/2/7166867_625fde3...</td>\n",
       "      <td>1950</td>\n",
       "      <td>30-95 29th St</td>\n",
       "      <td>low</td>\n",
       "    </tr>\n",
       "    <tr>\n",
       "      <th>34542</th>\n",
       "      <td>50013</td>\n",
       "      <td>1.0</td>\n",
       "      <td>0</td>\n",
       "      <td>9b6cf886379a2511f8c633c84028efe7</td>\n",
       "      <td>2016-05-10 03:17:32</td>\n",
       "      <td>All apartments are newly renovated featuring: ...</td>\n",
       "      <td>E 1st St</td>\n",
       "      <td>['Pre-War', 'Laundry in Unit', 'Dishwasher', '...</td>\n",
       "      <td>40.7239</td>\n",
       "      <td>6989251</td>\n",
       "      <td>-73.9901</td>\n",
       "      <td>5599e962719af3ccc2976855c2d5893c</td>\n",
       "      <td>['https://photos.renthop.com/2/6989251_42a4884...</td>\n",
       "      <td>2600</td>\n",
       "      <td>39 E 1st St</td>\n",
       "      <td>medium</td>\n",
       "    </tr>\n",
       "    <tr>\n",
       "      <th>34543</th>\n",
       "      <td>111475</td>\n",
       "      <td>2.0</td>\n",
       "      <td>2</td>\n",
       "      <td>0</td>\n",
       "      <td>2016-04-21 03:29:35</td>\n",
       "      <td>&lt;![CDATA[2 bedrooms, 5110, Astoria / Long Isla...</td>\n",
       "      <td>50th Avenue</td>\n",
       "      <td>[]</td>\n",
       "      <td>40.7437</td>\n",
       "      <td>6905568</td>\n",
       "      <td>-73.9585</td>\n",
       "      <td>e6472c7237327dd3903b3d6f6a94515a</td>\n",
       "      <td>['https://photos.renthop.com/2/6905568_01602e3...</td>\n",
       "      <td>5110</td>\n",
       "      <td>2-01 50th Avenue</td>\n",
       "      <td>low</td>\n",
       "    </tr>\n",
       "    <tr>\n",
       "      <th>34544</th>\n",
       "      <td>71184</td>\n",
       "      <td>1.0</td>\n",
       "      <td>2</td>\n",
       "      <td>8754cae39f6e053974aa2337017eb3c1</td>\n",
       "      <td>2016-05-14 02:27:47</td>\n",
       "      <td>CooperCooper.com :: Listing ID #10_0385; 400 W...</td>\n",
       "      <td>400 West 56th Street</td>\n",
       "      <td>['Laundry in Unit', 'Dishwasher', 'Cats Allowe...</td>\n",
       "      <td>40.7673</td>\n",
       "      <td>7010187</td>\n",
       "      <td>-73.9866</td>\n",
       "      <td>6e5c10246156ae5bdcd9b487ca99d96a</td>\n",
       "      <td>['https://photos.renthop.com/2/7010187_ab1db5d...</td>\n",
       "      <td>3400</td>\n",
       "      <td>400 West 56th Street</td>\n",
       "      <td>medium</td>\n",
       "    </tr>\n",
       "    <tr>\n",
       "      <th>34545</th>\n",
       "      <td>117473</td>\n",
       "      <td>1.0</td>\n",
       "      <td>2</td>\n",
       "      <td>a068b783287190d47d1564ab4d898675</td>\n",
       "      <td>2016-04-05 03:35:52</td>\n",
       "      <td>Renovated two bedroom apartment with beautiful...</td>\n",
       "      <td>E 82 Street</td>\n",
       "      <td>[]</td>\n",
       "      <td>40.7765</td>\n",
       "      <td>6824588</td>\n",
       "      <td>-73.9571</td>\n",
       "      <td>e0f4c69279ce5ae6421b39d46303554b</td>\n",
       "      <td>['https://photos.renthop.com/2/6824588_b997d59...</td>\n",
       "      <td>2950</td>\n",
       "      <td>158 E 82 Street</td>\n",
       "      <td>medium</td>\n",
       "    </tr>\n",
       "  </tbody>\n",
       "</table>\n",
       "<p>34546 rows × 16 columns</p>\n",
       "</div>"
      ],
      "text/plain": [
       "           Id  bathrooms  bedrooms                       building_id  \\\n",
       "0       57094        1.0         3                                 0   \n",
       "1       33389        1.0         1  9225efdfb57a50bf3ec17ebab082f94a   \n",
       "2       60458        1.0         0  320de7d3cc88e50a7fbbcfde1e825d21   \n",
       "3       53048        1.0         2  ce6d18bf3238e668b2bf23f4110b7b67   \n",
       "4         592        1.0         3  fee4d465932160318364d9d48d272879   \n",
       "...       ...        ...       ...                               ...   \n",
       "34541   25582        1.0         1  14fdc4b01ae44b025f6c4d28c9097e5f   \n",
       "34542   50013        1.0         0  9b6cf886379a2511f8c633c84028efe7   \n",
       "34543  111475        2.0         2                                 0   \n",
       "34544   71184        1.0         2  8754cae39f6e053974aa2337017eb3c1   \n",
       "34545  117473        1.0         2  a068b783287190d47d1564ab4d898675   \n",
       "\n",
       "                   created                                        description  \\\n",
       "0      2016-05-19 18:06:27  A FABULOUS 3BR IN MIDTOWN WEST!   PERFECT APAR...   \n",
       "1      2016-06-16 02:01:49                    Renovated Kitchen and Bathroom!   \n",
       "2      2016-05-04 02:42:50  RARE AND BEST DEAL ON THE MARKET!!!! PERFECT S...   \n",
       "3      2016-05-12 05:57:56  Newly renovated flex 2 apartment offers the ne...   \n",
       "4      2016-06-16 06:06:15  LOW FEE apartments do not come around like thi...   \n",
       "...                    ...                                                ...   \n",
       "34541  2016-06-16 02:12:57  Newly renovated bedroom apartment located off ...   \n",
       "34542  2016-05-10 03:17:32  All apartments are newly renovated featuring: ...   \n",
       "34543  2016-04-21 03:29:35  <![CDATA[2 bedrooms, 5110, Astoria / Long Isla...   \n",
       "34544  2016-05-14 02:27:47  CooperCooper.com :: Listing ID #10_0385; 400 W...   \n",
       "34545  2016-04-05 03:35:52  Renovated two bedroom apartment with beautiful...   \n",
       "\n",
       "                                         display_address  \\\n",
       "0      HOW AMAZING IS THIS MIDTOWN WEST STEAL!! NO FE...   \n",
       "1                                   55 River Drive South   \n",
       "2                                            W 77 Street   \n",
       "3                                            John Street   \n",
       "4                                       West 16th Street   \n",
       "...                                                  ...   \n",
       "34541                                            29th St   \n",
       "34542                                           E 1st St   \n",
       "34543                                        50th Avenue   \n",
       "34544                               400 West 56th Street   \n",
       "34545                                        E 82 Street   \n",
       "\n",
       "                                                features  latitude  \\\n",
       "0              ['Laundry In Unit', 'No Fee', 'Elevator']   40.7647   \n",
       "1             ['Dogs Allowed', 'Cats Allowed', 'No Fee']   40.7275   \n",
       "2                        ['Elevator', 'Hardwood Floors']   40.7798   \n",
       "3      ['Swimming Pool', 'Doorman', 'Elevator', 'Fitn...   40.7081   \n",
       "4      ['Laundry in Building', 'Laundry in Unit', 'Di...   40.7416   \n",
       "...                                                  ...       ...   \n",
       "34541                                        ['No pets']   40.7653   \n",
       "34542  ['Pre-War', 'Laundry in Unit', 'Dishwasher', '...   40.7239   \n",
       "34543                                                 []   40.7437   \n",
       "34544  ['Laundry in Unit', 'Dishwasher', 'Cats Allowe...   40.7673   \n",
       "34545                                                 []   40.7765   \n",
       "\n",
       "       listing_id  longitude                        manager_id  \\\n",
       "0         7039994   -73.9918  4bdc3d8c1aaa90d997ce2cb77680679b   \n",
       "1         7166774   -74.0322  e5808a5e6cc13988fe596704428d38d5   \n",
       "2         6962716   -73.9751  d69d4e111612dd12ef864031c1148543   \n",
       "3         7002458   -74.0065  e6472c7237327dd3903b3d6f6a94515a   \n",
       "4         7170465   -74.0025  6fba9b3a8327c607b8b043716efee684   \n",
       "...           ...        ...                               ...   \n",
       "34541     7166867   -73.9248  e6472c7237327dd3903b3d6f6a94515a   \n",
       "34542     6989251   -73.9901  5599e962719af3ccc2976855c2d5893c   \n",
       "34543     6905568   -73.9585  e6472c7237327dd3903b3d6f6a94515a   \n",
       "34544     7010187   -73.9866  6e5c10246156ae5bdcd9b487ca99d96a   \n",
       "34545     6824588   -73.9571  e0f4c69279ce5ae6421b39d46303554b   \n",
       "\n",
       "                                                  photos  price  \\\n",
       "0      ['https://photos.renthop.com/2/7039994_07be01b...   4495   \n",
       "1      ['https://photos.renthop.com/2/7166774_03cf63a...   2570   \n",
       "2      ['https://photos.renthop.com/2/6962716_ec7f56f...   1795   \n",
       "3      ['https://photos.renthop.com/2/7002458_93f4010...   3400   \n",
       "4      ['https://photos.renthop.com/2/7170465_9c3f173...   5695   \n",
       "...                                                  ...    ...   \n",
       "34541  ['https://photos.renthop.com/2/7166867_625fde3...   1950   \n",
       "34542  ['https://photos.renthop.com/2/6989251_42a4884...   2600   \n",
       "34543  ['https://photos.renthop.com/2/6905568_01602e3...   5110   \n",
       "34544  ['https://photos.renthop.com/2/7010187_ab1db5d...   3400   \n",
       "34545  ['https://photos.renthop.com/2/6824588_b997d59...   2950   \n",
       "\n",
       "             street_address  TARGET  \n",
       "0             W 50 & AVE 10  medium  \n",
       "1      55 River Drive South  medium  \n",
       "2            22 W 77 Street     low  \n",
       "3           100 John Street     low  \n",
       "4      321 West 16th Street     low  \n",
       "...                     ...     ...  \n",
       "34541         30-95 29th St     low  \n",
       "34542           39 E 1st St  medium  \n",
       "34543      2-01 50th Avenue     low  \n",
       "34544  400 West 56th Street  medium  \n",
       "34545       158 E 82 Street  medium  \n",
       "\n",
       "[34546 rows x 16 columns]"
      ]
     },
     "execution_count": 3,
     "metadata": {},
     "output_type": "execute_result"
    }
   ],
   "source": [
    "df = pd.read_csv('../input/housepricingtg2021/train.csv')\n",
    "\n",
    "df"
   ]
  },
  {
   "cell_type": "code",
   "execution_count": 4,
   "id": "bd287915",
   "metadata": {
    "execution": {
     "iopub.execute_input": "2021-12-19T23:23:34.691424Z",
     "iopub.status.busy": "2021-12-19T23:23:34.690299Z",
     "iopub.status.idle": "2021-12-19T23:23:35.653404Z",
     "shell.execute_reply": "2021-12-19T23:23:35.653937Z",
     "shell.execute_reply.started": "2021-12-19T23:05:29.942439Z"
    },
    "papermill": {
     "duration": 0.993275,
     "end_time": "2021-12-19T23:23:35.654097",
     "exception": false,
     "start_time": "2021-12-19T23:23:34.660822",
     "status": "completed"
    },
    "tags": []
   },
   "outputs": [
    {
     "data": {
      "image/png": "[encoded data removed]",
      "text/plain": [
       "<Figure size 1080x360 with 2 Axes>"
      ]
     },
     "metadata": {},
     "output_type": "display_data"
    }
   ],
   "source": [
    "fig, ax = plt.subplots(1, 2, figsize=(15, 5))\n",
    "\n",
    "sns.barplot(x=\"TARGET\", y=\"bedrooms\", data=df, ax=ax[0]);\n",
    "sns.barplot(x=\"TARGET\", y=\"bedrooms\", data=df, ax=ax[1]);"
   ]
  },
  {
   "cell_type": "code",
   "execution_count": 5,
   "id": "d84da590",
   "metadata": {
    "execution": {
     "iopub.execute_input": "2021-12-19T23:23:35.729217Z",
     "iopub.status.busy": "2021-12-19T23:23:35.728498Z",
     "iopub.status.idle": "2021-12-19T23:23:36.183091Z",
     "shell.execute_reply": "2021-12-19T23:23:36.183466Z",
     "shell.execute_reply.started": "2021-12-19T23:05:30.798543Z"
    },
    "papermill": {
     "duration": 0.506959,
     "end_time": "2021-12-19T23:23:36.183618",
     "exception": false,
     "start_time": "2021-12-19T23:23:35.676659",
     "status": "completed"
    },
    "tags": []
   },
   "outputs": [
    {
     "data": {
      "image/png": "[encoded data removed]",
      "text/plain": [
       "<Figure size 1080x360 with 1 Axes>"
      ]
     },
     "metadata": {},
     "output_type": "display_data"
    }
   ],
   "source": [
    "fig, ax = plt.subplots(figsize=(15, 5))\n",
    "\n",
    "sns.barplot(x=\"TARGET\", y=\"price\", data=df, ax=ax);"
   ]
  },
  {
   "cell_type": "code",
   "execution_count": 6,
   "id": "5d618e74",
   "metadata": {
    "execution": {
     "iopub.execute_input": "2021-12-19T23:23:36.258826Z",
     "iopub.status.busy": "2021-12-19T23:23:36.258067Z",
     "iopub.status.idle": "2021-12-19T23:23:36.612833Z",
     "shell.execute_reply": "2021-12-19T23:23:36.613249Z",
     "shell.execute_reply.started": "2021-12-19T23:12:11.620701Z"
    },
    "papermill": {
     "duration": 0.40483,
     "end_time": "2021-12-19T23:23:36.613400",
     "exception": false,
     "start_time": "2021-12-19T23:23:36.208570",
     "status": "completed"
    },
    "tags": []
   },
   "outputs": [
    {
     "data": {
      "image/png": "[encoded data removed]",
      "text/plain": [
       "<Figure size 1080x720 with 1 Axes>"
      ]
     },
     "metadata": {},
     "output_type": "display_data"
    }
   ],
   "source": [
    "fig, ax = plt.subplots(1, 1, figsize=(15, 10))\n",
    "N = 10000\n",
    "ax.scatter(df['longitude'].values[:N], df['latitude'].values[:N],\n",
    "           color='blue', s=1, label='train', alpha=0.1)\n",
    "\n",
    "fig.suptitle('Houses locations')\n",
    "ax.legend(loc=0)\n",
    "ax.set_ylabel('latitude')\n",
    "ax.set_xlabel('longitude')\n",
    "plt.ylim((40.65, 40.9))\n",
    "plt.xlim((-74.05, -73.8))\n",
    "plt.show()"
   ]
  },
  {
   "cell_type": "markdown",
   "id": "870aa2b1",
   "metadata": {
    "papermill": {
     "duration": 0.02436,
     "end_time": "2021-12-19T23:23:36.663156",
     "exception": false,
     "start_time": "2021-12-19T23:23:36.638796",
     "status": "completed"
    },
    "tags": []
   },
   "source": [
    "<h1 style='background-color: #dae8fc; border: 1px solid #94add0; padding: 10px; font-weight: 400; text-align:center'>Extra classes for feature engineering</h1>"
   ]
  },
  {
   "cell_type": "markdown",
   "id": "67fca4ee",
   "metadata": {
    "papermill": {
     "duration": 0.025609,
     "end_time": "2021-12-19T23:23:36.714018",
     "exception": false,
     "start_time": "2021-12-19T23:23:36.688409",
     "status": "completed"
    },
    "tags": []
   },
   "source": [
    "Since such columns as **description, display_address, features and street_address** looks like a bunch of strings we would like to gain some information form them, probably one hot them, and for doing it I will introduce **BaseExtracter** class that will extract words from string of strings and **BaseMultiLabelBinarizer** that will one hot all these features!"
   ]
  },
  {
   "cell_type": "code",
   "execution_count": 7,
   "id": "5e94a5f5",
   "metadata": {
    "execution": {
     "iopub.execute_input": "2021-12-19T23:23:36.777415Z",
     "iopub.status.busy": "2021-12-19T23:23:36.775850Z",
     "iopub.status.idle": "2021-12-19T23:23:36.778061Z",
     "shell.execute_reply": "2021-12-19T23:23:36.778502Z",
     "shell.execute_reply.started": "2021-12-19T23:05:31.584858Z"
    },
    "papermill": {
     "duration": 0.03846,
     "end_time": "2021-12-19T23:23:36.778636",
     "exception": false,
     "start_time": "2021-12-19T23:23:36.740176",
     "status": "completed"
    },
    "tags": []
   },
   "outputs": [],
   "source": [
    "class BaseExtracter(BaseEstimator, TransformerMixin):\n",
    "    def __init__(self, column, extraction_function):\n",
    "        self.extraction_function = extraction_function\n",
    "        self.column = column\n",
    "    \n",
    "    def fit(self, X, y=None):\n",
    "        return self\n",
    "    \n",
    "    def transform(self, X, y=None):\n",
    "        X_ = X.copy()\n",
    "        X_[self.column] = X_[self.column].apply(self.extraction_function) \n",
    "        return X_\n",
    "    \n",
    "class BaseMultiLabelBinarizer(BaseEstimator, TransformerMixin):\n",
    "    def __init__(self, column):\n",
    "        self.mlb = MultiLabelBinarizer()\n",
    "        self.column = column\n",
    "    \n",
    "    def fit(self, X, y=None):\n",
    "        self.mlb.fit(X[self.column])\n",
    "        return self\n",
    "    \n",
    "    def transform(self, X, y=None):\n",
    "        X_ = X.copy()\n",
    "        encoded = pd.DataFrame(self.mlb.transform(X_[self.column]), columns=self.mlb.classes_)\n",
    "        X_ = pd.concat([X_.reset_index(), encoded], axis=1)  \n",
    "\n",
    "        X_.drop(columns=['index', self.column], inplace=True)\n",
    "\n",
    "        return X_"
   ]
  },
  {
   "cell_type": "markdown",
   "id": "b75bc87f",
   "metadata": {
    "papermill": {
     "duration": 0.025549,
     "end_time": "2021-12-19T23:23:36.830221",
     "exception": false,
     "start_time": "2021-12-19T23:23:36.804672",
     "status": "completed"
    },
    "tags": []
   },
   "source": [
    "Since it is much easier to deal with pandas, we will implement our **PandasSimpleImputer**. The point of doing this was that **sklearn.impute.SimpleImputer** returns numpy array while for this particular task we want our data to be in pandas format"
   ]
  },
  {
   "cell_type": "code",
   "execution_count": 8,
   "id": "1ec4847d",
   "metadata": {
    "execution": {
     "iopub.execute_input": "2021-12-19T23:23:36.887409Z",
     "iopub.status.busy": "2021-12-19T23:23:36.886689Z",
     "iopub.status.idle": "2021-12-19T23:23:36.890107Z",
     "shell.execute_reply": "2021-12-19T23:23:36.889581Z",
     "shell.execute_reply.started": "2021-12-19T23:05:31.595954Z"
    },
    "papermill": {
     "duration": 0.034205,
     "end_time": "2021-12-19T23:23:36.890241",
     "exception": false,
     "start_time": "2021-12-19T23:23:36.856036",
     "status": "completed"
    },
    "tags": []
   },
   "outputs": [],
   "source": [
    "class PandasSimpleImputer(SimpleImputer):\n",
    "    def fit(self, X, y=None):\n",
    "        self.columns = X.columns\n",
    "        return super().fit(X, y)\n",
    "\n",
    "    def transform(self, X):\n",
    "        return pd.DataFrame(super().transform(X), columns=self.columns)"
   ]
  },
  {
   "cell_type": "markdown",
   "id": "3d4df62c",
   "metadata": {
    "papermill": {
     "duration": 0.024487,
     "end_time": "2021-12-19T23:23:36.940618",
     "exception": false,
     "start_time": "2021-12-19T23:23:36.916131",
     "status": "completed"
    },
    "tags": []
   },
   "source": [
    "<h1 style='background-color: #dae8fc; border: 1px solid #94add0; padding: 10px; font-weight: 400; text-align:center'>Feature Engineering</h1>"
   ]
  },
  {
   "cell_type": "markdown",
   "id": "403ee76f",
   "metadata": {
    "papermill": {
     "duration": 0.024198,
     "end_time": "2021-12-19T23:23:36.989834",
     "exception": false,
     "start_time": "2021-12-19T23:23:36.965636",
     "status": "completed"
    },
    "tags": []
   },
   "source": [
    "Let's add some Nonlinearity to our model by adding more features."
   ]
  },
  {
   "cell_type": "code",
   "execution_count": 9,
   "id": "0033110e",
   "metadata": {
    "execution": {
     "iopub.execute_input": "2021-12-19T23:23:37.048978Z",
     "iopub.status.busy": "2021-12-19T23:23:37.048156Z",
     "iopub.status.idle": "2021-12-19T23:23:37.057742Z",
     "shell.execute_reply": "2021-12-19T23:23:37.057308Z",
     "shell.execute_reply.started": "2021-12-19T23:05:31.609563Z"
    },
    "papermill": {
     "duration": 0.042786,
     "end_time": "2021-12-19T23:23:37.057880",
     "exception": false,
     "start_time": "2021-12-19T23:23:37.015094",
     "status": "completed"
    },
    "tags": []
   },
   "outputs": [],
   "source": [
    "class GenerateMoreFeatures(BaseEstimator, TransformerMixin):\n",
    "    def __init__(self):\n",
    "        pass\n",
    "    \n",
    "    def fit(self, X, y=None):\n",
    "        coords = np.vstack((X[['latitude', 'longitude']].values))\n",
    "        self.pca = PCA().fit(coords)\n",
    "        return self\n",
    "    \n",
    "    def transform(self, X, y=None):\n",
    "        X_ = X.copy()\n",
    "\n",
    "        X_[f'pca{0}'] = self.pca.transform(X_[['latitude', 'longitude']])[:, 0]\n",
    "        \n",
    "        \"\"\"Price per bedroom and bathroom\"\"\"\n",
    "        \n",
    "        X_['price_per_bedroom']  = X_[\"price\"] / X_[\"bedrooms\"]\n",
    "        X_[\"price_per_bathroom\"] = X_[\"price\"] / X_[\"bathrooms\"]\n",
    "        X_['price_per_bedroom'][X_['price_per_bedroom'] == np.Inf] = 0\n",
    "        X_['price_per_bathroom'][X_['price_per_bathroom'] == np.Inf] = 0\n",
    "        X_.drop(columns=['bedrooms','bathrooms'], inplace=True)\n",
    "        \n",
    "        \"\"\"Seller and Building popularity\"\"\"\n",
    "        \n",
    "        building_ids = X_['building_id'].value_counts()\n",
    "        manager_ids = X_['manager_id'].value_counts()\n",
    "        X_['manager_ids_count'] = X_['manager_id'].apply(lambda x: manager_ids[x] if x in manager_ids else 0)\n",
    "        X_['building_ids_count'] = X_['building_id'].apply(lambda x: building_ids[x] if x in building_ids else 0)\n",
    "        X_.drop(columns=['manager_id','building_id'], inplace=True)\n",
    "        \n",
    "        \"\"\"Date and time\"\"\"\n",
    "        \n",
    "        X_[\"created\"] = X_[\"created\"].astype(\"datetime64\")\n",
    "        X_['Weekday'] = X_.created.dt.weekday\n",
    "        X_['day_of_month'] = X_.created.dt.day\n",
    "        X_['hour'] = X_.created.dt.hour\n",
    "        X_['is_weekend'] = X_.created.apply(lambda x: 1 if x.date().weekday() in (5, 6) else 0)\n",
    "        X_['month'] = X_.created.dt.month\n",
    "        X_['week'] = X_.created.dt.isocalendar().week\n",
    "        X_['minute'] = X_['created'].dt.minute\n",
    "        X_['pickup_week_hour'] = X_['Weekday'] * 24 + X_['hour']\n",
    "        \n",
    "        timestamp = pd.Timestamp('2016-06-29 18:30:41')\n",
    "        \n",
    "        X_['days_since_last'] = X_.created.apply(lambda x: (timestamp - x).days)\n",
    "\n",
    "        X_.drop(columns=['created'], inplace=True)\n",
    "        \n",
    "        return X_"
   ]
  },
  {
   "cell_type": "markdown",
   "id": "4f2c580c",
   "metadata": {
    "papermill": {
     "duration": 0.026262,
     "end_time": "2021-12-19T23:23:37.110720",
     "exception": false,
     "start_time": "2021-12-19T23:23:37.084458",
     "status": "completed"
    },
    "tags": []
   },
   "source": [
    "<h1 style='background-color: #dae8fc; border: 1px solid #94add0; padding: 10px; font-weight: 400; text-align:center'>Pipeline</h1>"
   ]
  },
  {
   "cell_type": "markdown",
   "id": "c890b1b8",
   "metadata": {
    "papermill": {
     "duration": 0.024169,
     "end_time": "2021-12-19T23:23:37.159637",
     "exception": false,
     "start_time": "2021-12-19T23:23:37.135468",
     "status": "completed"
    },
    "tags": []
   },
   "source": [
    "Now we are ready to build a pipeline for our particular problem. For such encoded features as **display_address, features and street_address** we will use **VarianceThreshold** which basically removes elements by variance threshold> If you would skip this turn you would end up having million of features!"
   ]
  },
  {
   "cell_type": "code",
   "execution_count": 10,
   "id": "8d3fa1e9",
   "metadata": {
    "execution": {
     "iopub.execute_input": "2021-12-19T23:23:37.219189Z",
     "iopub.status.busy": "2021-12-19T23:23:37.218366Z",
     "iopub.status.idle": "2021-12-19T23:23:37.221387Z",
     "shell.execute_reply": "2021-12-19T23:23:37.220873Z",
     "shell.execute_reply.started": "2021-12-19T23:05:33.102520Z"
    },
    "papermill": {
     "duration": 0.037823,
     "end_time": "2021-12-19T23:23:37.221506",
     "exception": false,
     "start_time": "2021-12-19T23:23:37.183683",
     "status": "completed"
    },
    "tags": []
   },
   "outputs": [],
   "source": [
    "features = make_pipeline(PandasSimpleImputer(strategy='constant', fill_value='xxx'),\n",
    "                         BaseExtracter('features', lambda x: x[1:-1].replace(\"'\", \"\").replace(\" \", \"\").split(',')),\n",
    "                         BaseMultiLabelBinarizer('features'),\n",
    "                         VarianceThreshold(threshold=0.01))\n",
    "\n",
    "display_address = make_pipeline(PandasSimpleImputer(strategy='constant', fill_value='xxx'),\n",
    "                                BaseExtracter('display_address', lambda x: x.split(' ')),\n",
    "                                BaseMultiLabelBinarizer('display_address'),\n",
    "                                VarianceThreshold(threshold=0.01))\n",
    "\n",
    "street_address= make_pipeline(PandasSimpleImputer(strategy='constant', fill_value='xxx'),\n",
    "                              BaseExtracter('street_address', lambda x: x.split(' ')),\n",
    "                              BaseMultiLabelBinarizer('street_address'),\n",
    "                              VarianceThreshold(threshold=0.01))\n",
    "\n",
    "special_features = make_pipeline(GenerateMoreFeatures(), StandardScaler())\n",
    "\n",
    "polynomial_features = make_pipeline(PolynomialFeatures(2), StandardScaler())\n",
    "\n",
    "columns = ColumnTransformer(transformers=[\n",
    "        ('Special Features', special_features, ['price', 'bedrooms', 'bathrooms', \n",
    "                                                'building_id', 'manager_id', 'created',\n",
    "                                                'latitude', 'longitude', 'listing_id']),\n",
    "        ('Polynomial Features', polynomial_features, ['price', 'bedrooms', 'bathrooms',\n",
    "                                                      'latitude', 'longitude', 'listing_id']),\n",
    "        ('Features', features, ['features']),\n",
    "        ('Display Address', display_address, ['display_address']),\n",
    "        ('Street Address', street_address, ['street_address']),\n",
    "])"
   ]
  },
  {
   "cell_type": "markdown",
   "id": "209bbfe4",
   "metadata": {
    "papermill": {
     "duration": 0.024282,
     "end_time": "2021-12-19T23:23:37.270109",
     "exception": false,
     "start_time": "2021-12-19T23:23:37.245827",
     "status": "completed"
    },
    "tags": []
   },
   "source": [
    "Now we are ready to split our data and start training"
   ]
  },
  {
   "cell_type": "code",
   "execution_count": 11,
   "id": "9cb5f9cb",
   "metadata": {
    "execution": {
     "iopub.execute_input": "2021-12-19T23:23:37.341213Z",
     "iopub.status.busy": "2021-12-19T23:23:37.340110Z",
     "iopub.status.idle": "2021-12-19T23:23:37.353752Z",
     "shell.execute_reply": "2021-12-19T23:23:37.353289Z",
     "shell.execute_reply.started": "2021-12-19T23:05:33.337305Z"
    },
    "papermill": {
     "duration": 0.059021,
     "end_time": "2021-12-19T23:23:37.353907",
     "exception": false,
     "start_time": "2021-12-19T23:23:37.294886",
     "status": "completed"
    },
    "tags": []
   },
   "outputs": [],
   "source": [
    "X, y = df.loc[:, df.columns != 'TARGET'], df.loc[:, 'TARGET']\n",
    "\n",
    "le = LabelEncoder()\n",
    "\n",
    "y = le.fit_transform(y)\n",
    "\n",
    "X_train, X_test, y_train, y_test = train_test_split(X, y, test_size=0.15, random_state=0)"
   ]
  },
  {
   "cell_type": "code",
   "execution_count": 12,
   "id": "3a8d54a8",
   "metadata": {
    "execution": {
     "iopub.execute_input": "2021-12-19T23:23:37.414413Z",
     "iopub.status.busy": "2021-12-19T23:23:37.411878Z",
     "iopub.status.idle": "2021-12-19T23:23:48.575305Z",
     "shell.execute_reply": "2021-12-19T23:23:48.575676Z",
     "shell.execute_reply.started": "2021-12-19T23:05:33.654034Z"
    },
    "papermill": {
     "duration": 11.194626,
     "end_time": "2021-12-19T23:23:48.575864",
     "exception": false,
     "start_time": "2021-12-19T23:23:37.381238",
     "status": "completed"
    },
    "tags": []
   },
   "outputs": [
    {
     "name": "stdout",
     "output_type": "stream",
     "text": [
      "Generated 119 features\n"
     ]
    }
   ],
   "source": [
    "X_train = columns.fit_transform(X_train);\n",
    "X_test  = columns.transform(X_test)\n",
    "\n",
    "features_num = X_train.shape[1]\n",
    "\n",
    "print(f'Generated {features_num} features')"
   ]
  },
  {
   "cell_type": "markdown",
   "id": "c9146cdc",
   "metadata": {
    "papermill": {
     "duration": 0.02424,
     "end_time": "2021-12-19T23:23:48.625149",
     "exception": false,
     "start_time": "2021-12-19T23:23:48.600909",
     "status": "completed"
    },
    "tags": []
   },
   "source": [
    "Dealing with class imbalance problem"
   ]
  },
  {
   "cell_type": "code",
   "execution_count": 13,
   "id": "c07dd9d2",
   "metadata": {
    "execution": {
     "iopub.execute_input": "2021-12-19T23:23:48.679292Z",
     "iopub.status.busy": "2021-12-19T23:23:48.678539Z",
     "iopub.status.idle": "2021-12-19T23:23:48.691647Z",
     "shell.execute_reply": "2021-12-19T23:23:48.691261Z",
     "shell.execute_reply.started": "2021-12-19T23:05:44.820758Z"
    },
    "papermill": {
     "duration": 0.042213,
     "end_time": "2021-12-19T23:23:48.691748",
     "exception": false,
     "start_time": "2021-12-19T23:23:48.649535",
     "status": "completed"
    },
    "tags": []
   },
   "outputs": [
    {
     "data": {
      "text/plain": [
       "{0: 4.248263888888889, 1: 0.4790290216806147, 2: 1.4769880790704693}"
      ]
     },
     "execution_count": 13,
     "metadata": {},
     "output_type": "execute_result"
    }
   ],
   "source": [
    "classes = np.unique(y_train)\n",
    "weights = compute_class_weight(class_weight='balanced', classes=classes, y=y_train)\n",
    "class_weights = dict(zip(classes, weights))\n",
    "\n",
    "class_weights"
   ]
  },
  {
   "cell_type": "markdown",
   "id": "203fb667",
   "metadata": {
    "papermill": {
     "duration": 0.024452,
     "end_time": "2021-12-19T23:23:48.740988",
     "exception": false,
     "start_time": "2021-12-19T23:23:48.716536",
     "status": "completed"
    },
    "tags": []
   },
   "source": [
    "<h1 style='background-color: #dae8fc; border: 1px solid #94add0; padding: 10px; font-weight: 400; text-align:center'>Feature Selection</h1>"
   ]
  },
  {
   "cell_type": "markdown",
   "id": "6216e145",
   "metadata": {
    "papermill": {
     "duration": 0.02498,
     "end_time": "2021-12-19T23:23:48.791304",
     "exception": false,
     "start_time": "2021-12-19T23:23:48.766324",
     "status": "completed"
    },
    "tags": []
   },
   "source": [
    "Since while some features are good other may not be like that and that's why we need to select the ones which perfoms the best for our model"
   ]
  },
  {
   "cell_type": "code",
   "execution_count": 14,
   "id": "53c135f3",
   "metadata": {
    "execution": {
     "iopub.execute_input": "2021-12-19T23:23:50.407692Z",
     "iopub.status.busy": "2021-12-19T23:23:48.843326Z",
     "iopub.status.idle": "2021-12-19T23:26:25.367796Z",
     "shell.execute_reply": "2021-12-19T23:26:25.367282Z",
     "shell.execute_reply.started": "2021-12-19T23:09:52.017790Z"
    },
    "papermill": {
     "duration": 156.551447,
     "end_time": "2021-12-19T23:26:25.367954",
     "exception": false,
     "start_time": "2021-12-19T23:23:48.816507",
     "status": "completed"
    },
    "tags": []
   },
   "outputs": [],
   "source": [
    "features_select = 90\n",
    "\n",
    "clf = CatBoostClassifier(class_weights=class_weights, verbose=0,\n",
    "                                    task_type=\"GPU\", devices='0', random_seed=0,\n",
    "                                    iterations=2000, depth=5, l2_leaf_reg=4,\n",
    "                                    leaf_estimation_method='Newton')\n",
    "            \n",
    "train_pool = catboost.Pool(data=X_train, label=y_train)\n",
    "test_pool = catboost.Pool(data=X_test, label=y_test)\n",
    "\n",
    "summary = clf.select_features(train_pool, eval_set=test_pool,\n",
    "                              features_for_select=f'0-{features_num - 1}',\n",
    "                              num_features_to_select=features_select,steps=5,\n",
    "                              logging_level='Silent',\n",
    "                              algorithm=EFeaturesSelectionAlgorithm.RecursiveByShapValues,\n",
    "                              shap_calc_type=EShapCalcType.Regular, train_final_model=False);\n",
    "\n",
    "selected_features = summary['selected_features']\n",
    "\n",
    "X_train_subset = X_train[:, selected_features]\n",
    "X_test_subset  = X_test[:, selected_features]"
   ]
  },
  {
   "cell_type": "markdown",
   "id": "47da2515",
   "metadata": {
    "papermill": {
     "duration": 0.024938,
     "end_time": "2021-12-19T23:26:25.418498",
     "exception": false,
     "start_time": "2021-12-19T23:26:25.393560",
     "status": "completed"
    },
    "tags": []
   },
   "source": [
    "<h1 style='background-color: #dae8fc; border: 1px solid #94add0; padding: 10px; font-weight: 400; text-align:center'>Hyperparameters Tuning</h1>"
   ]
  },
  {
   "cell_type": "markdown",
   "id": "01a3414b",
   "metadata": {
    "papermill": {
     "duration": 0.024512,
     "end_time": "2021-12-19T23:26:25.467663",
     "exception": false,
     "start_time": "2021-12-19T23:26:25.443151",
     "status": "completed"
    },
    "tags": []
   },
   "source": [
    "Since we are using **Gradient Boosting** we have to choose between different depth for trees, number of iterations and other important hyperparameters"
   ]
  },
  {
   "cell_type": "code",
   "execution_count": 15,
   "id": "e9599eb2",
   "metadata": {
    "execution": {
     "iopub.execute_input": "2021-12-19T23:26:25.526799Z",
     "iopub.status.busy": "2021-12-19T23:26:25.526249Z",
     "iopub.status.idle": "2021-12-19T23:32:20.067378Z",
     "shell.execute_reply": "2021-12-19T23:32:20.066762Z",
     "shell.execute_reply.started": "2021-12-19T22:03:53.299753Z"
    },
    "papermill": {
     "duration": 354.575357,
     "end_time": "2021-12-19T23:32:20.067542",
     "exception": false,
     "start_time": "2021-12-19T23:26:25.492185",
     "status": "completed"
    },
    "tags": []
   },
   "outputs": [
    {
     "name": "stderr",
     "output_type": "stream",
     "text": [
      "\u001b[32m[I 2021-12-19 23:26:25,524]\u001b[0m A new study created in memory with name: no-name-294ae944-43a0-462c-80af-19e67fccdad0\u001b[0m\n",
      "\u001b[32m[I 2021-12-19 23:27:36,830]\u001b[0m Trial 0 finished with value: 0.6193780874374827 and parameters: {'rf_max_depth': 4, 'l2_leaf_reg': 13, 'iterations': 2500.0}. Best is trial 0 with value: 0.6193780874374827.\u001b[0m\n",
      "\u001b[32m[I 2021-12-19 23:28:47,420]\u001b[0m Trial 1 finished with value: 0.6234822797922028 and parameters: {'rf_max_depth': 4, 'l2_leaf_reg': 5, 'iterations': 2500.0}. Best is trial 1 with value: 0.6234822797922028.\u001b[0m\n",
      "\u001b[32m[I 2021-12-19 23:30:11,774]\u001b[0m Trial 2 finished with value: 0.6228466711520155 and parameters: {'rf_max_depth': 4, 'l2_leaf_reg': 22, 'iterations': 3000.0}. Best is trial 1 with value: 0.6234822797922028.\u001b[0m\n",
      "\u001b[32m[I 2021-12-19 23:31:22,548]\u001b[0m Trial 3 finished with value: 0.6215219175071207 and parameters: {'rf_max_depth': 4, 'l2_leaf_reg': 16, 'iterations': 2500.0}. Best is trial 1 with value: 0.6234822797922028.\u001b[0m\n",
      "\u001b[32m[I 2021-12-19 23:32:20,019]\u001b[0m Trial 4 finished with value: 0.6180792140515277 and parameters: {'rf_max_depth': 4, 'l2_leaf_reg': 24, 'iterations': 2000.0}. Best is trial 1 with value: 0.6234822797922028.\u001b[0m\n"
     ]
    },
    {
     "data": {
      "text/plain": [
       "{'rf_max_depth': 4, 'l2_leaf_reg': 5, 'iterations': 2500.0}"
      ]
     },
     "execution_count": 15,
     "metadata": {},
     "output_type": "execute_result"
    }
   ],
   "source": [
    "def objective(trial):\n",
    "    depth = trial.suggest_int(\"rf_max_depth\", 3, 6, log=True)\n",
    "    l2_leaf_reg = trial.suggest_int(\"l2_leaf_reg\", 2, 30, log=True)\n",
    "    iterations = trial.suggest_discrete_uniform(\"iterations\", 2000, 3000, q=500)\n",
    "\n",
    "    all_scores = []\n",
    "    for seed in np.random.randint(0, 100, size=(5)):\n",
    "        clf = CatBoostClassifier(class_weights=class_weights, verbose=0, \n",
    "                                 task_type=\"GPU\", devices='0', random_seed=seed,\n",
    "                                 iterations=iterations, depth=depth,\n",
    "                                 l2_leaf_reg=l2_leaf_reg)\n",
    "                    \n",
    "        clf.fit(X_train_subset, y_train)\n",
    "        score = balanced_accuracy_score(y_test, clf.predict(X_test_subset))\n",
    "        all_scores.append(score)\n",
    "\n",
    "    average_score = sum(all_scores) / len(all_scores)\n",
    "    return average_score\n",
    "                \n",
    "\n",
    "sampler = optuna.samplers.TPESampler(seed=0)\n",
    "study = optuna.create_study(sampler=sampler, direction='maximize')\n",
    "study.optimize(objective, n_trials=5)\n",
    "study.best_params"
   ]
  },
  {
   "cell_type": "markdown",
   "id": "6818c64c",
   "metadata": {
    "papermill": {
     "duration": 0.039261,
     "end_time": "2021-12-19T23:32:20.146470",
     "exception": false,
     "start_time": "2021-12-19T23:32:20.107209",
     "status": "completed"
    },
    "tags": []
   },
   "source": [
    "<h1 style='background-color: #dae8fc; border: 1px solid #94add0; padding: 10px; font-weight: 400; text-align:center'>Train final model and submit to competition</h1>"
   ]
  },
  {
   "cell_type": "code",
   "execution_count": 16,
   "id": "50159406",
   "metadata": {
    "execution": {
     "iopub.execute_input": "2021-12-19T23:32:20.243487Z",
     "iopub.status.busy": "2021-12-19T23:32:20.242688Z",
     "iopub.status.idle": "2021-12-19T23:32:34.044066Z",
     "shell.execute_reply": "2021-12-19T23:32:34.045146Z",
     "shell.execute_reply.started": "2021-12-19T23:09:41.215167Z"
    },
    "papermill": {
     "duration": 13.859271,
     "end_time": "2021-12-19T23:32:34.045376",
     "exception": false,
     "start_time": "2021-12-19T23:32:20.186105",
     "status": "completed"
    },
    "tags": []
   },
   "outputs": [],
   "source": [
    "clf = CatBoostClassifier(class_weights=class_weights, verbose=0, \n",
    "                                 task_type=\"GPU\", devices='0', random_seed=42,\n",
    "                                 iterations=2500, depth=4,\n",
    "                                 l2_leaf_reg=5)\n",
    "\n",
    "clf.fit(X_train_subset, y_train);"
   ]
  },
  {
   "cell_type": "code",
   "execution_count": 17,
   "id": "cbda041e",
   "metadata": {
    "execution": {
     "iopub.execute_input": "2021-12-19T23:32:34.132469Z",
     "iopub.status.busy": "2021-12-19T23:32:34.131713Z",
     "iopub.status.idle": "2021-12-19T23:32:38.405147Z",
     "shell.execute_reply": "2021-12-19T23:32:38.404512Z",
     "shell.execute_reply.started": "2021-12-19T22:11:18.815891Z"
    },
    "papermill": {
     "duration": 4.319006,
     "end_time": "2021-12-19T23:32:38.405299",
     "exception": false,
     "start_time": "2021-12-19T23:32:34.086293",
     "status": "completed"
    },
    "tags": []
   },
   "outputs": [],
   "source": [
    "df_test = pd.read_csv('../input/housepricingtg2021/test.csv')\n",
    "ID = df_test['Id']\n",
    "df_test = columns.transform(df_test)\n",
    "new_df_test = df_test[:, selected_features]\n",
    "preds = clf.predict(new_df_test, prediction_type='Class')\n",
    "preds = le.inverse_transform(preds)\n",
    "output = pd.DataFrame({'Id': ID,'TARGET': preds})\n",
    "output.to_csv('submission.csv', index=False)"
   ]
  }
 ],
 "metadata": {
  "kernelspec": {
   "display_name": "Python 3 (ipykernel)",
   "language": "python",
   "name": "python3"
  },
  "language_info": {
   "codemirror_mode": {
    "name": "ipython",
    "version": 3
   },
   "file_extension": ".py",
   "mimetype": "text/x-python",
   "name": "python",
   "nbconvert_exporter": "python",
   "pygments_lexer": "ipython3",
   "version": "3.9.7"
  },
  "papermill": {
   "default_parameters": {},
   "duration": 556.193039,
   "end_time": "2021-12-19T23:32:39.142971",
   "environment_variables": {},
   "exception": null,
   "input_path": "__notebook__.ipynb",
   "output_path": "__notebook__.ipynb",
   "parameters": {},
   "start_time": "2021-12-19T23:23:22.949932",
   "version": "2.3.3"
  }
 },
 "nbformat": 4,
 "nbformat_minor": 5
}
